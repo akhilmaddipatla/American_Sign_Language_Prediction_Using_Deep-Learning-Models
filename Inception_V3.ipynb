{
 "cells": [
  {
   "cell_type": "code",
   "execution_count": null,
   "id": "ca1b260b",
   "metadata": {},
   "outputs": [],
   "source": [
    "!pip install tensorflow"
   ]
  },
  {
   "cell_type": "code",
   "execution_count": null,
   "id": "b77f407e",
   "metadata": {},
   "outputs": [],
   "source": [
    "!pip install keras-tuner"
   ]
  },
  {
   "cell_type": "code",
   "execution_count": null,
   "id": "b74f3e9f",
   "metadata": {},
   "outputs": [],
   "source": []
  },
  {
   "cell_type": "code",
   "execution_count": null,
   "id": "a0148455",
   "metadata": {},
   "outputs": [],
   "source": [
    "import numpy as np\n",
    "import pandas as pd\n",
    "import os\n",
    "import random\n",
    "import cv2\n",
    "import seaborn as sns\n",
    "from datetime import datetime, timedelta\n",
    "from google.cloud import storage\n",
    "\n",
    "from sklearn.model_selection import train_test_split\n",
    "from sklearn.preprocessing import OneHotEncoder\n",
    "from sklearn.metrics import recall_score\n",
    "from sklearn.metrics import f1_score\n",
    "from sklearn.metrics import precision_score\n",
    "from sklearn.metrics import (confusion_matrix,accuracy_score)\n",
    "from sklearn.metrics import classification_report\n",
    "\n",
    "from tensorflow import keras\n",
    "from tensorflow.keras.applications.inception_v3 import InceptionV3\n",
    "from tensorflow.keras.applications.inception_v3 import preprocess_input, decode_predictions\n",
    "from tensorflow.keras.preprocessing import image\n",
    "from tensorflow.keras.models import Model\n",
    "from tensorflow.keras.layers import Dense, GlobalAveragePooling2D\n",
    "\n",
    "from keras_tuner.tuners import BayesianOptimization\n",
    "from keras_tuner import HyperModel"
   ]
  },
  {
   "cell_type": "code",
   "execution_count": null,
   "id": "4ca7c5c2",
   "metadata": {},
   "outputs": [],
   "source": [
    "PROJECT='My First Project'\n",
    "BUCKET='data_meta'\n",
    "FILENAME='asl_alphabet_train/A/A1.jpg'\n",
    "\n",
    "client = storage.Client(PROJECT)\n",
    "bucket = client.get_bucket(BUCKET)"
   ]
  },
  {
   "cell_type": "code",
   "execution_count": null,
   "id": "00f2e7be",
   "metadata": {},
   "outputs": [],
   "source": [
    "start_time = datetime.now()\n",
    "\n",
    "X = []\n",
    "y = []\n",
    "folders =  ['A', 'B', 'C', 'D', 'E', 'F', 'G','H', 'I','J', 'K', 'L', 'M', 'N' \n",
    "            ,'O', 'P', 'Q', 'R','S', 'T','U', 'V', 'W', 'X', 'Y', 'Z']\n",
    "\n",
    "for label in folders:\n",
    "    for blob in client.list_blobs(BUCKET, prefix='asl_alphabet_train/'+label):\n",
    "        try:\n",
    "            image = np.asarray(bytearray(blob.download_as_string()), dtype=\"uint8\")\n",
    "            image = cv2.imdecode(image, cv2.IMREAD_UNCHANGED)\n",
    "            X.append(image)\n",
    "            y.append(folders.index(label) + 1)\n",
    "        except:\n",
    "            pass\n",
    "    print(label,':',len(X)-3000*(ord(label)-65))\n",
    "    \n",
    "end_time = datetime.now()"
   ]
  },
  {
   "cell_type": "code",
   "execution_count": null,
   "id": "0851a95e",
   "metadata": {},
   "outputs": [],
   "source": [
    "time_taken = (end_time - start_time).total_seconds()/60\n",
    "print(time_taken)"
   ]
  },
  {
   "cell_type": "code",
   "execution_count": null,
   "id": "e5259bea",
   "metadata": {},
   "outputs": [],
   "source": [
    "np.save('input_array_full.npy',X)\n",
    "np.save('label_array_full.npy',y)"
   ]
  },
  {
   "cell_type": "code",
   "execution_count": null,
   "id": "a15f6e1a",
   "metadata": {},
   "outputs": [],
   "source": [
    "X = np.load('input_array.npy')\n",
    "y = np.load('label_array.npy')"
   ]
  },
  {
   "cell_type": "code",
   "execution_count": null,
   "id": "31a92b2c",
   "metadata": {},
   "outputs": [],
   "source": [
    "X = np.array(X)\n",
    "y = np.array(y)"
   ]
  },
  {
   "cell_type": "code",
   "execution_count": null,
   "id": "0f17db4e",
   "metadata": {},
   "outputs": [],
   "source": [
    "print(X.shape)\n",
    "y.shape"
   ]
  },
  {
   "cell_type": "code",
   "execution_count": null,
   "id": "44c1bd40",
   "metadata": {},
   "outputs": [],
   "source": [
    "Onehot_encoding = OneHotEncoder()\n",
    "y= np.reshape(y,(-1,1))\n",
    "Onehot_encoding.fit(y)\n",
    "y = Onehot_encoding.transform(y).toarray()"
   ]
  },
  {
   "cell_type": "code",
   "execution_count": null,
   "id": "686a7460",
   "metadata": {},
   "outputs": [],
   "source": [
    "X_train, X_rem, y_train, y_rem = train_test_split(X,y, train_size=0.7, random_state=42, stratify = y)\n",
    "X_valid, X_test, y_valid, y_test = train_test_split(X_rem,y_rem, test_size=0.5, random_state=42, stratify = y_rem)"
   ]
  },
  {
   "cell_type": "code",
   "execution_count": null,
   "id": "f85aa83b",
   "metadata": {},
   "outputs": [],
   "source": [
    "del X,y"
   ]
  },
  {
   "cell_type": "code",
   "execution_count": null,
   "id": "e6fa7ca8",
   "metadata": {},
   "outputs": [],
   "source": [
    "X_train = preprocess_input(X_train)\n",
    "X_valid = preprocess_input(X_valid)\n",
    "X_test = preprocess_input(X_test)"
   ]
  },
  {
   "cell_type": "code",
   "execution_count": null,
   "id": "a179b302",
   "metadata": {},
   "outputs": [],
   "source": [
    "class tuner_inception_model(HyperModel):\n",
    "\n",
    "    def __init__(self, num_classes=26):\n",
    "        self.num_classes = num_classes\n",
    "\n",
    "    def build(self, hp):\n",
    "\n",
    "        inception_backbone = InceptionV3(weights='imagenet', include_top=False)\n",
    "\n",
    "        x = inception_backbone.output\n",
    "        x = GlobalAveragePooling2D()(x)\n",
    "\n",
    "        x = Dense(1024, activation=hp.Choice(\n",
    "                    'dense_activation',\n",
    "                    values=['relu','sigmoid','tanh'],\n",
    "                    default='relu'))(x)\n",
    "\n",
    "        predictions = Dense(self.num_classes, activation='softmax')(x)\n",
    "\n",
    "        model = Model(inputs=inception_backbone.input, outputs=predictions)\n",
    "\n",
    "        for layer in inception_backbone.layers:\n",
    "            layer.trainable = False\n",
    "\n",
    "        model.compile(optimizer=keras.optimizers.RMSprop(\n",
    "                hp.Choice(\n",
    "                    'learning_rate',\n",
    "                    values = [0.001,0.005,0.01,0.05,0.1],\n",
    "                    default=1e-2)),\n",
    "                loss='categorical_crossentropy',\n",
    "                metrics = ['accuracy'])\n",
    "\n",
    "        return model"
   ]
  },
  {
   "cell_type": "code",
   "execution_count": null,
   "id": "5d02e12e",
   "metadata": {},
   "outputs": [],
   "source": [
    "class MyTuner(BayesianOptimization):\n",
    "    def run_trial(self, trial, *args, **kwargs):\n",
    "        kwargs['batch_size'] = trial.hyperparameters.Choice('batch_size',values=[64,128,256,512],default = 256)\n",
    "        super(MyTuner, self).run_trial(trial, *args, **kwargs)"
   ]
  },
  {
   "cell_type": "code",
   "execution_count": null,
   "id": "13c1baef",
   "metadata": {},
   "outputs": [],
   "source": [
    "tuned_model = tuner_inception_model()"
   ]
  },
  {
   "cell_type": "code",
   "execution_count": null,
   "id": "7059de0c",
   "metadata": {},
   "outputs": [],
   "source": [
    "tuner = MyTuner(\n",
    "    tuned_model,\n",
    "    max_trials = 30,\n",
    "    objective='val_accuracy',\n",
    "    seed=42,\n",
    "    executions_per_trial=1,\n",
    "    directory='BayesianOptimization',\n",
    "    project_name='ASL_recg_fin_incep'\n",
    ")"
   ]
  },
  {
   "cell_type": "code",
   "execution_count": null,
   "id": "96a6d3bc",
   "metadata": {},
   "outputs": [],
   "source": [
    "tuner.search_space_summary()"
   ]
  },
  {
   "cell_type": "code",
   "execution_count": null,
   "id": "391d810f",
   "metadata": {
    "scrolled": true
   },
   "outputs": [],
   "source": [
    "start_run = datetime.now()\n",
    "tuner.search(X_train, y_train, epochs=100, validation_data=(X_valid, y_valid))\n",
    "end_run = datetime.now()"
   ]
  },
  {
   "cell_type": "code",
   "execution_count": null,
   "id": "51a48179",
   "metadata": {},
   "outputs": [],
   "source": [
    "time_taken = (end_run - start_run).total_seconds()/60\n",
    "print(time_taken)"
   ]
  },
  {
   "cell_type": "code",
   "execution_count": null,
   "id": "e54f3390",
   "metadata": {},
   "outputs": [],
   "source": [
    "tuner.results_summary()"
   ]
  },
  {
   "cell_type": "code",
   "execution_count": null,
   "id": "0b063f19",
   "metadata": {},
   "outputs": [],
   "source": [
    "best_model = tuner.get_best_models(num_models=1)[0]"
   ]
  },
  {
   "cell_type": "code",
   "execution_count": null,
   "id": "dacafe3c",
   "metadata": {},
   "outputs": [],
   "source": [
    "print(best_model.history)"
   ]
  },
  {
   "cell_type": "code",
   "execution_count": null,
   "id": "22a87bac",
   "metadata": {},
   "outputs": [],
   "source": [
    "loss_train = best_model.history['train_loss']\n",
    "loss_val = best_model.history['val_loss']\n",
    "epochs = range(1,100)\n",
    "plt.plot(epochs, loss_train, 'g', label='Training loss')\n",
    "plt.plot(epochs, loss_val, 'b', label='validation loss')\n",
    "plt.title('Training and Validation loss')\n",
    "plt.xlabel('Epochs')\n",
    "plt.ylabel('Loss')\n",
    "plt.legend()\n",
    "plt.show()"
   ]
  },
  {
   "cell_type": "code",
   "execution_count": null,
   "id": "455f09bb",
   "metadata": {},
   "outputs": [],
   "source": [
    "best_model.save('my_model_100')"
   ]
  },
  {
   "cell_type": "code",
   "execution_count": null,
   "id": "288872bd",
   "metadata": {},
   "outputs": [],
   "source": [
    "prediction = best_model.predict(X_test)"
   ]
  },
  {
   "cell_type": "code",
   "execution_count": null,
   "id": "7cebf929",
   "metadata": {},
   "outputs": [],
   "source": [
    "prediction_decoded = np.argmax(prediction,axis = 1)\n",
    "y_test_decoded = np.argmax(y_test,axis = 1)"
   ]
  },
  {
   "cell_type": "code",
   "execution_count": null,
   "id": "beb9e1ca",
   "metadata": {},
   "outputs": [],
   "source": [
    "cf_matrix = confusion_matrix(y_test_decoded,prediction_decoded)\n",
    "sns.heatmap(cf_matrix,cmap = \"YlGnBu\")"
   ]
  },
  {
   "cell_type": "code",
   "execution_count": null,
   "id": "a4af08e1",
   "metadata": {},
   "outputs": [],
   "source": [
    "print(classification_report(y_test_decoded, prediction_decoded, target_names= [str(i) for i in range(1,27)]))"
   ]
  },
  {
   "cell_type": "code",
   "execution_count": null,
   "id": "692f04ac",
   "metadata": {},
   "outputs": [],
   "source": [
    "print('accuracy:',accuracy_score(y_test_decoded, prediction_decoded))"
   ]
  },
  {
   "cell_type": "code",
   "execution_count": null,
   "id": "25b03699",
   "metadata": {},
   "outputs": [],
   "source": []
  },
  {
   "cell_type": "code",
   "execution_count": null,
   "id": "a0fe7863",
   "metadata": {},
   "outputs": [],
   "source": []
  }
 ],
 "metadata": {
  "kernelspec": {
   "display_name": "Python 3",
   "language": "python",
   "name": "python3"
  },
  "language_info": {
   "codemirror_mode": {
    "name": "ipython",
    "version": 3
   },
   "file_extension": ".py",
   "mimetype": "text/x-python",
   "name": "python",
   "nbconvert_exporter": "python",
   "pygments_lexer": "ipython3",
   "version": "3.8.5"
  }
 },
 "nbformat": 4,
 "nbformat_minor": 5
}
